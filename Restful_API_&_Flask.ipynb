{
  "nbformat": 4,
  "nbformat_minor": 0,
  "metadata": {
    "colab": {
      "provenance": []
    },
    "kernelspec": {
      "name": "python3",
      "display_name": "Python 3"
    },
    "language_info": {
      "name": "python"
    }
  },
  "cells": [
    {
      "cell_type": "markdown",
      "source": [
        "#THEORY QUESTION\n",
        "\n",
        "---\n",
        "\n",
        "\n",
        "\n",
        "\n",
        "\n"
      ],
      "metadata": {
        "id": "WcMbtJeprgoI"
      }
    },
    {
      "cell_type": "markdown",
      "source": [
        "1. What is a RESTful API?\n",
        "\n",
        "> A RESTful API, or Representational State Transfer Application Programming Interface, is an API that adheres to the architectural style and principles of REST. REST is not a protocol but rather a set of guidelines for building web services that are scalable, flexible, and easy to use.\n",
        "\n",
        "---\n",
        "\n"
      ],
      "metadata": {
        "id": "keAizM-xrsS7"
      }
    },
    {
      "cell_type": "markdown",
      "source": [
        "2. Explain the concept of API specification.\n",
        "\n",
        ">An API specification is a formal, detailed description of an Application Programming Interface (API), serving as a blueprint or contract that defines how different software components should interact. It outlines the rules and guidelines for communication between systems, ensuring consistency and predictability in API behavior.\n",
        "\n",
        "---\n",
        "\n"
      ],
      "metadata": {
        "id": "eesYuGwJsCzl"
      }
    },
    {
      "cell_type": "markdown",
      "source": [
        "3. What is Flask, and why is it popular for building APIs?\n",
        "\n",
        "> Flask is a lightweight, Python-based web framework used for building web applications and APIs. It’s particularly popular for creating RESTful APIs due to its simplicity, flexibility, and ease of use.\n",
        "\n",
        "\n",
        " Why Flask Is Popular for Building APIs\n",
        "\n",
        "i. Minimal and Flexible\n",
        "     \n",
        "  * You start with a blank slate — no assumptions or enforced architecture.\n",
        "\n",
        "  * You can design your API exactly how you want it without fighting the framework.\n",
        "\n",
        "ii. Simple and Intuitive\n",
        "\n",
        "  * Great for beginners and small-to-medium applications.\n",
        "\n",
        "  * Clean and readable syntax that aligns well with Pythonic principles.\n",
        "\n",
        "iii. Built-in Development Server\n",
        "   \n",
        "   * Flask has an easy-to-use local server, perfect for rapid prototyping and debugging.\n",
        "\n",
        "iv. Strong Community and Ecosystem\n",
        "   \n",
        "   * Large number of extensions (like Flask-RESTful, Flask-JWT, Flask-SQLAlchemy).\n",
        "\n",
        "   * Helpful documentation and tutorials available.\n",
        "\n",
        "---\n",
        "\n",
        "\n"
      ],
      "metadata": {
        "id": "6j_EpVWLsnz9"
      }
    },
    {
      "cell_type": "markdown",
      "source": [
        "4. What is routing in Flask?\n",
        "\n",
        "> Routing is the mechanism that maps specific URLs to corresponding Python functions within a web application. When a user navigates to a particular URL in their browser, Flask uses its routing system to determine which function should be executed to handle that request and generate the appropriate response.\n",
        "\n",
        "---\n",
        "\n"
      ],
      "metadata": {
        "id": "1NYTqF2AtJf2"
      }
    },
    {
      "cell_type": "markdown",
      "source": [
        "5. How do you create a simple Flask application?\n",
        "\n",
        "> from flask import flask\n",
        "\n",
        "    app = flask(__name__)\n",
        "\n",
        "define a route\n",
        "\n",
        "    @app.route(\"/\")\n",
        "    def home():\n",
        "      return \"hello, flask!\"\n",
        "\n",
        "    run the app\n",
        "        \n",
        "        if__name__==\"__main__\":\n",
        "        app.run(debug=true)\n",
        "\n",
        "---\n",
        "\n"
      ],
      "metadata": {
        "id": "DVBMe3FgteR3"
      }
    },
    {
      "cell_type": "markdown",
      "source": [
        "6. What are HTTP methods used in RESTful APIs?\n",
        "\n",
        ">  In RESTful APIs, HTTP methods define the type of operation a client wants to perform on a resource (like data in a database). These methods are the foundation of how REST APIs work.\n",
        "\n",
        "  \n",
        "| Method      | Purpose                            | Typical Use Case                       |\n",
        "| ----------- | ---------------------------------- | -------------------------------------- |\n",
        "| **GET**     | Retrieve data                      | Get a list of users or a specific user |\n",
        "| **POST**    | Create new data                    | Add a new user                         |\n",
        "| **PUT**     | Update/replace existing data       | Replace user information               |\n",
        "| **PATCH**   | Partially update existing data     | Update only the user's email           |\n",
        "| **DELETE**  | Delete data                        | Remove a user                          |\n",
        "| **OPTIONS** | Describe communication options     | Check what methods are allowed         |\n",
        "| **HEAD**    | Like GET, but returns only headers | Check if a resource exists             |\n",
        "\n",
        "\n",
        "\n",
        "---\n",
        "\n",
        "\n"
      ],
      "metadata": {
        "id": "l-pCosNrtyZG"
      }
    },
    {
      "cell_type": "markdown",
      "source": [
        "7.  What is the purpose of the @app.route() decorator in Flask?\n",
        "\n",
        "> The @app.route() decorator in Flask is used to bind a URL path to a Python function — called a view function. This tells Flask what code to execute when a particular URL is requested by a client (like a web browser or an API call).\n",
        "\n",
        "\n",
        "  EXAMPLE:-\n",
        "      \n",
        "       from flask import Flask\n",
        "app = Flask(__name__)\n",
        "\n",
        "@app.route('/')\n",
        "def home():\n",
        "    return \"Welcome to the homepage!\"\n",
        "\n",
        " * When a user visits /, the home() function is executed.\n",
        "\n",
        " * The return value (\"Welcome to the homepage!\") is sent back as the response.\n",
        "\n",
        "---\n",
        "\n"
      ],
      "metadata": {
        "id": "CBeimocuuA0v"
      }
    },
    {
      "cell_type": "markdown",
      "source": [
        "8.What is the difference between GET and POST HTTP methods?\n",
        "\n",
        "**GET Method:**\n",
        "\n",
        "* **Purpose:** Primarily used for retrieving data from the server. It requests a representation of a specified resource.\n",
        "\n",
        "* **Data Transmission:** Data is appended to the URL as query parameters.\n",
        "\n",
        "* **Visibility:** Data is visible in the URL, making it unsuitable for sensitive information.\n",
        "\n",
        "* **Caching:** GET requests are typically cacheable, meaning browsers and proxy servers can store and reuse responses for performance.\n",
        "\n",
        "* **Idempotency:** GET requests are considered \"safe\" and \"idempotent.\" This means making the same GET request multiple times will not change the server's state, and it should not have any side effects beyond data retrieval.\n",
        "\n",
        "* **Data Size:** Limited by the maximum URL length supported by browsers and servers.\n",
        "\n",
        "**POST Method:**\n",
        "\n",
        "* **Purpose:** Primarily used for sending data to the server to create or update a resource.\n",
        "\n",
        "* **Data Transmission:** Data is sent in the request body, not in the URL.\n",
        "\n",
        "* **Visibility:** Data is not visible in the URL, providing a higher degree of privacy for sensitive information.\n",
        "\n",
        "* **Caching:** POST requests are generally not cacheable by default, as they often involve modifying server-side data.\n",
        "\n",
        "* **Idempotency:** POST requests are not inherently idempotent. Making the same POST request multiple times can result in multiple resources being created or repeated modifications to existing resources.\n",
        "\n",
        "* **Data Size:** Has no practical limit on the amount of data that can be sent, as it's transmitted in the request body.\n",
        "\n",
        "\n",
        "---\n",
        "\n"
      ],
      "metadata": {
        "id": "3jrVDxCRuIJO"
      }
    },
    {
      "cell_type": "markdown",
      "source": [
        "9. How do you handle errors in Flask APIs?\n",
        "\n",
        "> Error handling in Flask APIs involves catching exceptions and returning appropriate, informative responses to the client. This ensures a robust API and a better experience for consumers.\n",
        "\n",
        "> i . Using Flask's abort() function for HTTP Errors:\n",
        "For common HTTP errors (like 404 Not Found, 400 Bad Request, 403 Forbidden), Flask's abort() function is a direct way to signal an error\n",
        "\n",
        "\n",
        "\n",
        "```\n",
        "from flask import Flask, abort, jsonify\n",
        "\n",
        "app = Flask(__name__)\n",
        "\n",
        "@app.route('/items/<int:item_id>')\n",
        "def get_item(item_id):\n",
        "    if item_id not in [1, 2, 3]:\n",
        "        abort(404, description=\"Item not found\")\n",
        "    return jsonify({\"item_id\": item_id, \"name\": f\"Item {item_id}\"})\n",
        "```\n",
        "\n",
        "> ii.  Registering Custom Error Handlers with @app.errorhandler():\n",
        "You can define custom functions to handle specific HTTP error codes or exceptions using the @app.errorhandler() decorator.\n",
        "\n",
        "\n",
        "\n",
        "```\n",
        "from flask import Flask, jsonify\n",
        "\n",
        "app = Flask(__name__)\n",
        "\n",
        "@app.errorhandler(404)\n",
        "def not_found_error(error):\n",
        "    return jsonify({\"error\": \"Not Found\", \"message\": error.description}), 404\n",
        "\n",
        "@app.errorhandler(Exception)\n",
        "def handle_general_exception(e):\n",
        "    # Log the full traceback for unhandled exceptions\n",
        "    app.logger.error('An unhandled exception occurred: %s', e, exc_info=True)\n",
        "    return jsonify({\"error\": \"Internal Server Error\", \"message\": \"An unexpected error occurred.\"}), 500\n",
        "```\n",
        "\n",
        "> iii. Defining and Handling Custom Exceptions:\n",
        "For application-specific errors, you can create custom exception classes and then register handlers for them.\n",
        "\n",
        "\n",
        "\n",
        "```\n",
        "from flask import Flask, jsonify\n",
        "\n",
        "app = Flask(__name__)\n",
        "\n",
        "class InvalidInputError(Exception):\n",
        "    def __init__(self, message, status_code=400):\n",
        "        super().__init__(message)\n",
        "        self.message = message\n",
        "        self.status_code = status_code\n",
        "\n",
        "@app.errorhandler(InvalidInputError)\n",
        "def handle_invalid_input(error):\n",
        "    return jsonify({\"error\": \"Invalid Input\", \"message\": error.message}), error.status_code\n",
        "\n",
        "@app.route('/process_data', methods=['POST'])\n",
        "def process_data():\n",
        "    # Simulate an invalid input scenario\n",
        "    raise InvalidInputError(\"Missing required 'data' field.\")\n",
        "    return jsonify({\"status\": \"success\"})\n",
        "```\n",
        "\n",
        "---\n"
      ],
      "metadata": {
        "id": "EQ7Z6Nr_vU_g"
      }
    },
    {
      "cell_type": "markdown",
      "source": [
        "10. How do you connect Flask to a SQL database?\n",
        "\n",
        "> Connecting Flask to a SQL database is most often done using the Flask-SQLAlchemy extension, which provides an Object-Relational Mapper (ORM) that simplifies database management. While you can use raw SQL commands, Flask-SQLAlchemy abstracts the complexities, allowing you to use Python classes to define your database structure and interact with it.\n",
        "---"
      ],
      "metadata": {
        "id": "3MTGeT12wScl"
      }
    },
    {
      "cell_type": "markdown",
      "source": [
        "\n",
        "11. What is the role of Flask-SQLAlchemy?\n",
        "\n",
        "> Flask-SQLAlchemy serves as a crucial Flask extension that integrates SQLAlchemy into a Flask application, simplifying database management by providing an Object-Relational Mapper (ORM) to interact with relational databases like SQLite, MySQL, and PostgreSQL using Python objects instead of raw SQL. Its core role is to abstract database complexities, automatically manage common database patterns such as sessions and models, and streamline database operations within the Flask request-response cycle.\n",
        "---"
      ],
      "metadata": {
        "id": "zwvVBMHYwuvl"
      }
    },
    {
      "cell_type": "markdown",
      "source": [
        "\n",
        "12. What are Flask blueprints, and how are they useful?\n",
        "\n",
        "> Flask Blueprints are a mechanism in the Flask web framework that allows developers to organize their applications into modular, reusable components. They are not independent applications themselves but rather objects that encapsulate functionality like routes, templates, static files, and error handlers, which can then be registered with a main Flask application.\n",
        "\n",
        " **They are useful:**\n",
        "\n",
        "* **Modularization and Organization:** Blueprints enable the division of a large Flask application into smaller, manageable units based on features or functionalities (e.g., an \"admin\" blueprint, an \"authentication\" blueprint, a \"blog\" blueprint). This improves code organization and makes it easier to navigate and understand the application's structure.\n",
        "\n",
        "* **Code Reusability:** A blueprint can be designed to be self-contained, meaning it can be easily reused across different Flask projects. For example, a common authentication system implemented as a blueprint can be dropped into multiple applications.\n",
        "\n",
        "* **Scalability and Maintainability:** As an application grows, managing all routes and logic within a single file or a flat structure becomes cumbersome. Blueprints help in scaling by allowing independent development and maintenance of different parts of the application, simplifying debugging and updates.\n",
        "\n",
        "* **Team Collaboration:** In larger projects with multiple developers, blueprints facilitate parallel development. Different teams or individuals can work on separate blueprints without significant interference, leading to more efficient collaboration.\n",
        "\n",
        "* **URL Prefixing:** Blueprints can be registered with a URL prefix, which automatically applies to all routes defined within that blueprint. This helps in organizing URLs and preventing naming collisions between different modules (e.g., all admin routes starting with /admin).\n",
        "\n",
        "* **Resource Isolation:** Each blueprint can have its own dedicated template folders and static file directories, ensuring that resources for one module do not conflict with those of another.\n",
        "---"
      ],
      "metadata": {
        "id": "zzco6IeSw_fw"
      }
    },
    {
      "cell_type": "markdown",
      "source": [
        "\n",
        "13. What is the purpose of Flask's request object?\n",
        "\n",
        "> The purpose of Flask's request object is to provide access to all incoming HTTP request data within a Flask application. It acts as a container for information about the current request made by a client to the server.\n",
        "---"
      ],
      "metadata": {
        "id": "I0KCOkfpxpwg"
      }
    },
    {
      "cell_type": "markdown",
      "source": [
        "\n",
        "14. How do you create a RESTful API endpoint using Flask?\n",
        "\n",
        "> To create a RESTful API endpoint using Flask, you typically:\n",
        "\n",
        "   * Define a Route:Use the @app.route() decorator to define the URL path for the endpoint.\n",
        "\n",
        "   * Specify HTTP Methods: Use the methods argument in the @app.route() decorator to specify which HTTP methods are allowed for this endpoint (e.g., methods=['GET', 'POST']).\n",
        "\n",
        "   * Access Request Data: Use the request object to access data sent by the client (query parameters, form data, JSON data, etc.).\n",
        "\n",
        "   * Process Data: Perform the necessary logic based on the request data and the HTTP method.\n",
        "\n",
        "   * Return a Response: Return a response, typically in JSON format, using jsonify() or by creating a Response object with the appropriate status code and data.\n",
        "   ---"
      ],
      "metadata": {
        "id": "oWFs8GzMxztF"
      }
    },
    {
      "cell_type": "markdown",
      "source": [
        "\n",
        "15. What is the purpose of Flask's jsonify() function?\n",
        "\n",
        "> **The purpose of Flask's jsonify() function**\n",
        "\n",
        "* **Serialization to JSON:** It converts Python data structures (like dictionaries and lists) into a JSON-formatted string.\n",
        "\n",
        "* **Creating a Flask Response Object:** It wraps the JSON string within a Flask Response object.\n",
        "\n",
        "* **Setting Content-Type Header:** It automatically sets the Content-Type HTTP header of the response to application/json, informing the client that the response body contains JSON data. This is crucial for proper communication between the server and the client.\n",
        "\n",
        "* **Convenience for API Development:** It simplifies the process of sending structured data as responses, making it a convenient tool for building APIs where JSON is the standard data interchange format.\n",
        "---"
      ],
      "metadata": {
        "id": "JlcUaXMRyKzn"
      }
    },
    {
      "cell_type": "markdown",
      "source": [
        "\n",
        "16. Explain Flask's url_for() function.\n",
        "\n",
        ">  The purpose of Flask's jsonify() function is to convert Python data structures (like dictionaries, lists, etc.) into a JSON-formatted HTTP response. It also sets the correct MIME type (application/json) and status code for the response.\n",
        "\n",
        "Key Features of jsonify():\n",
        "\n",
        "  i. Serialization:\n",
        "\n",
        "  * Converts Python dictionaries, lists, and other JSON-serializable types into a JSON string.\n",
        "\n",
        "  ii. Content-Type Header:\n",
        "   \n",
        "  * Automatically sets the response header to Content-Type: application/json, which tells the client that the response is in JSON format.\n",
        "\n",
        "  iii. Returns a Response Object:\n",
        "     \n",
        "  * Unlike json.dumps(), which just returns a JSON string, jsonify() returns a full Flask Response object, making it easier to return from a route.\n",
        "  \n",
        "     ---"
      ],
      "metadata": {
        "id": "95yXI2skzSwM"
      }
    },
    {
      "cell_type": "markdown",
      "source": [
        "\n",
        "17. How does Flask handle static files (CSS, JavaScript, etc.)?\n",
        "\n",
        "> Flask handles static files like CSS, JavaScript, images, and other assets by serving them from a designated directory within your application.\n",
        "\n",
        "i. **Static Folder:**\n",
        "\n",
        "* By convention, Flask expects static files to be placed in a directory named static located at the root level of your Flask application.\n",
        "For example, if your main application file is app.py, you would create a static folder alongside it.\n",
        "\n",
        "ii. **Organizing Static Files:**\n",
        "\n",
        "* Within the static folder, you can create subdirectories to organize your files further. Common subdirectories include css for stylesheets, js for JavaScript files, and img for images.\n",
        "---"
      ],
      "metadata": {
        "id": "RsF5F4REzhK0"
      }
    },
    {
      "cell_type": "markdown",
      "source": [
        "\n",
        "18. What is an API specification, and how does it help in building a Flask API?\n",
        "\n",
        "> An API specification is a formal, machine-readable document that serves as a blueprint or contract for an API. It precisely defines how different software components should interact, detailing the API's endpoints, operations, input and output data structures (schemas), parameters, security mechanisms, and expected responses for various scenarios. Examples of API specifications include OpenAPI Specification (formerly Swagger) and AsyncAPI.\n",
        "\n",
        " **It helps in building a Flask API:**\n",
        "\n",
        "i. **Clear Design and Planning:** An API specification forces a detailed design phase before coding begins. This helps in defining the API's structure, functionality, and data models upfront, leading to a more coherent and well-organized Flask API.\n",
        "\n",
        "ii.**Improved Collaboration:** The specification acts as a single source of truth for all developers involved. Frontend, backend, and mobile developers can work concurrently, understanding the API's capabilities and requirements without constant communication, leading to faster development cycles.\n",
        "\n",
        "iii. **Automated Documentation and Tools:** Specifications like OpenAPI can be used to automatically generate interactive API documentation (e.g., with Swagger UI). This provides clear, up-to-date information for consumers of your Flask API, making it easier for them to integrate. Furthermore, tools can generate client SDKs or server stubs directly from the specification, reducing manual coding effort.\n",
        "\n",
        "iv. **Consistency and Standardization:** By adhering to a defined specification, your Flask API will maintain consistency across its endpoints and data structures, making it more predictable and easier to use for consumers.\n",
        "\n",
        "v.**Testing and Validation:** The specification provides a clear basis for writing automated tests. You can validate your Flask API's implementation against the defined contract, ensuring it behaves as expected and handles various inputs and outputs correctly.\n",
        "\n",
        "---"
      ],
      "metadata": {
        "id": "wl4eNDNRz3zd"
      }
    },
    {
      "cell_type": "markdown",
      "source": [
        "\n",
        "19. What are HTTP status codes, and why are they important in a Flask API?\n",
        "\n",
        "> HTTP status codes are three-digit numerical codes returned by a server in response to an HTTP request, indicating the outcome of that request. They provide a standardized way for the server to communicate the status of an operation to the client.\n",
        "\n",
        "> **Importance in a Flask API:**\n",
        "\n",
        "* **Clear Communication:** They provide clear and concise feedback to the client about the success or failure of an API call, and why. This helps client-side developers understand how to proceed.\n",
        "\n",
        "* **Standardization:** Using standard HTTP status codes ensures that your API is understandable and interoperable with a wide range of clients, regardless of the programming language or platform used.\n",
        "\n",
        "* **Error Handling:** Status codes enable robust error handling on the client side. Clients can interpret the codes to display appropriate error messages to users, log issues, or attempt recovery actions.\n",
        "\n",
        "* **Debugging:** When developing and debugging your Flask API, observing the returned status codes helps quickly identify whether issues are originating from the client's request or the server's processing.\n",
        "\n",
        "* **API Design Best Practices:** Adhering to appropriate status codes for different scenarios (e.g., 200 OK for success, 201 Created for resource creation, 404 Not Found for missing resources, 400 Bad Request for invalid input) is a fundamental aspect of designing a well-structured and user-friendly API.\n",
        "\n",
        "* **Security:** Specific status codes, like 401 Unauthorized or 403 Forbidden, are essential for communicating authentication and authorization failures, preventing unauthorized access to resources.\n",
        "\n",
        "---"
      ],
      "metadata": {
        "id": "n0itVEpv0gDk"
      }
    },
    {
      "cell_type": "markdown",
      "source": [
        "\n",
        "20. How do you handle POST requests in Flask?\n",
        "\n",
        "> Handling POST requests in Flask involves defining a route that accepts the POST method and then accessing the data sent in the request body.\n",
        "---"
      ],
      "metadata": {
        "id": "5zcNP9Gn1NUc"
      }
    },
    {
      "cell_type": "markdown",
      "source": [
        "\n",
        "21. How would you secure a Flask API?\n",
        "\n",
        "> Securing a Flask API is critical to protect your data, users, and system from unauthorized access, abuse, and attacks. Flask by itself is minimal, so you’ll need to implement several layers of security.\n",
        "\n",
        "  How to Secure a Flask API\n",
        "\n",
        "1. Use HTTPS (SSL/TLS)\n",
        "\n",
        "  * Serve your API over HTTPS, not HTTP.\n",
        "\n",
        "  * Encrypts data in transit, preventing man-in-the-middle (MITM) attacks.\n",
        "\n",
        "  * Use a reverse proxy like Nginx with Let's Encrypt for production HTTPS.\n",
        "\n",
        "2. Authentication\n",
        "\n",
        "  * Token-Based Authentication\n",
        "\n",
        "  * JWT (JSON Web Tokens) is commonly used.\n",
        "\n",
        "  * Clients include a token in the Authorization header:\n",
        "\n",
        "3. Authorization\n",
        "  \n",
        "  Control what an authenticated user can do.\n",
        "\n",
        "  * Role-based access (e.g., admin vs regular user)\n",
        "\n",
        "  * Scope-based tokens (OAuth2-style)\n",
        "\n",
        "  * Custom decorators to restrict access\n",
        "\n",
        "4. Input Validation & Sanitization\n",
        "\n",
        "  Always validate and sanitize user input to prevent:\n",
        "\n",
        "  * SQL Injection\n",
        "\n",
        "  * XSS (if returning HTML)\n",
        "\n",
        "  * Command Injection\n",
        "  ---"
      ],
      "metadata": {
        "id": "7pAlziIA1deM"
      }
    },
    {
      "cell_type": "markdown",
      "source": [
        "\n",
        "22. What is the significance of the Flask-RESTful extension?\n",
        "\n",
        "> The significance of the Flask-RESTful extension is that it simplifies and structures the development of RESTful APIs with Flask, providing tools for object-oriented resource management, automatic request parsing and response formatting (especially in JSON), and handling HTTP methods (GET, POST, PUT, DELETE) efficiently, thereby reducing boilerplate code and enabling faster, cleaner, and more organized API creation.\n",
        "---"
      ],
      "metadata": {
        "id": "jTWo96kl1wzr"
      }
    },
    {
      "cell_type": "markdown",
      "source": [
        "\n",
        "23. What is the role of Flask's session object?\n",
        "\n",
        "> Flask's session object allows an application to maintain user-specific data across multiple requests. It acts like a dictionary where you can store and retrieve information, such as user preferences or login status, that needs to persist between different page loads\n",
        "---\n",
        "---"
      ],
      "metadata": {
        "id": "co_7vvwc19tb"
      }
    },
    {
      "cell_type": "markdown",
      "source": [
        "#PRACTICAL QUESTION\n",
        "---"
      ],
      "metadata": {
        "id": "9PiJ0XhD2Kvd"
      }
    },
    {
      "cell_type": "code",
      "source": [
        "# 1. How do you create a basic Flask application?\n",
        "from flask import Flask\n",
        "\n",
        "# Create a Flask instance\n",
        "app = Flask(__name__)\n",
        "\n",
        "# Define a route\n",
        "@app.route(\"/\")\n",
        "def home():\n",
        "  return \"Hello, Flask!\"\n",
        "\n",
        "# Run the app (for development)\n",
        "# In a real-world application, you would use a production-ready server\n",
        "if __name__ == \"__main__\":\n",
        "  app.run(debug=True)"
      ],
      "metadata": {
        "id": "wb7gkJd12w_b"
      },
      "execution_count": null,
      "outputs": []
    },
    {
      "cell_type": "code",
      "source": [
        "#2. How do you serve static files like images or CSS in Flask?\n",
        "from flask import Flask, url_for, render_template\n",
        "\n",
        "app = Flask(__name__)\n",
        "\n",
        "@app.route('/')\n",
        "def index():\n",
        "  return render_template('index.html')\n"
      ],
      "metadata": {
        "id": "TS9oUOIn2_C0"
      },
      "execution_count": null,
      "outputs": []
    },
    {
      "cell_type": "code",
      "source": [
        "#3. How do you define different routes with different HTTP methods in Flask?\n",
        "from flask import Flask, request\n",
        "\n",
        "app = Flask(__name__)\n",
        "\n",
        "# Route that accepts GET and POST requests\n",
        "@app.route('/submit', methods=['GET', 'POST'])\n",
        "def submit():\n",
        "    if request.method == 'POST':\n",
        "        # Handle POST request data\n",
        "        return 'Received POST request!'\n",
        "    else:\n",
        "        # Handle GET request\n",
        "        return 'Send a POST request to this endpoint.'\n",
        "\n",
        "# Route that only accepts GET requests (default)\n",
        "@app.route('/data', methods=['GET'])\n",
        "def get_data():\n",
        "    return 'This endpoint only accepts GET requests.'\n",
        "\n",
        "# Route that only accepts POST requests\n",
        "@app.route('/create', methods=['POST'])\n",
        "def create_resource():\n",
        "    # Handle POST request to create a resource\n",
        "    return 'Resource created!', 201 # Return 201 Created status code\n",
        "\n",
        "if __name__ == '__main__':\n",
        "    app.run(debug=True)\n",
        "\n"
      ],
      "metadata": {
        "id": "m5Xk7IQh3Ep7"
      },
      "execution_count": null,
      "outputs": []
    },
    {
      "cell_type": "code",
      "source": [
        "#4. How do you render HTML templates in Flask?\n",
        "from flask import Flask, render_template\n",
        "\n",
        "app = Flask(__name__)\n",
        "\n",
        "@app.route('/')\n",
        "def index():\n",
        "    # Render the 'index.html' template\n",
        "    return render_template('index.html')"
      ],
      "metadata": {
        "id": "H8lztH7s3Mjb"
      },
      "execution_count": 4,
      "outputs": []
    },
    {
      "cell_type": "code",
      "source": [
        "#5. How can you generate URLs for routes in Flask using url_for?\n",
        "from flask import Flask, url_for\n",
        "\n",
        "app = Flask(__name__)\n",
        "\n",
        "@app.route('/')\n",
        "def home():\n",
        "    return 'Welcome to the home page!'\n",
        "\n",
        "@app.route('/about')\n",
        "def about():\n",
        "    return 'This is the about page.'"
      ],
      "metadata": {
        "id": "AmgEobvO3UR-"
      },
      "execution_count": 5,
      "outputs": []
    },
    {
      "cell_type": "code",
      "source": [
        "#6. How do you handle forms in Flask?\n",
        "from flask import Flask, render_template, request\n",
        "\n",
        "app = Flask(__name__)\n",
        "\n",
        "@app.route('/')\n",
        "def index():\n",
        "    return render_template('index.html')"
      ],
      "metadata": {
        "id": "DBJzNSI037bJ"
      },
      "execution_count": 6,
      "outputs": []
    },
    {
      "cell_type": "code",
      "source": [
        "#7. How can you validate form data in Flask?\n",
        "from flask import Flask, render_template, request\n",
        "\n",
        "app = Flask(__name__)\n",
        "\n",
        "@app.route('/')\n",
        "def index():\n",
        "    return render_template('index.html')"
      ],
      "metadata": {
        "id": "SLCVI_at4Cq8"
      },
      "execution_count": 7,
      "outputs": []
    },
    {
      "cell_type": "code",
      "source": [
        "#8. How do you manage sessions in Flask?\n",
        "from flask import Flask, session\n",
        "\n",
        "app = Flask(__name__)\n",
        "app.secret_key = 'your_secret_key'"
      ],
      "metadata": {
        "id": "yG5IoGUF4KMY"
      },
      "execution_count": 8,
      "outputs": []
    },
    {
      "cell_type": "code",
      "source": [
        "#9. How do you redirect to a different route in Flask?\n",
        "from flask import Flask, redirect, url_for\n",
        "\n",
        "app = Flask(__name__)\n",
        "\n",
        "@app.route('/')\n",
        "def index():\n",
        "    return 'Welcome to the home page!'\n",
        "\n",
        "@app.route('/about')\n",
        "def about():\n",
        "    return 'This is the about page.'"
      ],
      "metadata": {
        "id": "HAerzLJe4SC0"
      },
      "execution_count": 9,
      "outputs": []
    },
    {
      "cell_type": "code",
      "source": [
        "# 10. How do you handle errors in Flask (e.g., 404)?\n",
        "\n",
        "from flask import Flask, render_template, abort\n",
        "\n",
        "app = Flask(__name__)\n",
        "\n",
        "@app.route('/')\n",
        "def index():\n",
        "    return 'Welcome to the home page!'\n",
        "\n",
        "@app.route('/about')\n",
        "def about():\n",
        "    return 'This is the about page.'"
      ],
      "metadata": {
        "id": "lwBAYV2Q4acw"
      },
      "execution_count": 10,
      "outputs": []
    },
    {
      "cell_type": "code",
      "source": [
        "# 11. How do you structure a Flask app using Blueprints?\n",
        "\n",
        "from flask import Flask\n",
        "\n",
        "def create_app():\n",
        "    app = Flask(__name__)\n",
        "\n",
        "    # Register blueprints\n",
        "    from .main import main as main_blueprint\n",
        "    app.register_blueprint(main_blueprint)\n",
        "\n",
        "    from .auth import auth as auth_blueprint\n",
        "    app.register_blueprint(auth_blueprint, url_prefix='/auth')\n",
        "\n",
        "    return app\n",
        "\n",
        "if __name__ == '__main__':\n",
        "    app = create_app()\n",
        "    app.run(debug=True)\n",
        "\n",
        "\n",
        "# main.py (inside a 'main' folder)\n",
        "from flask import Blueprint\n",
        "\n",
        "main = Blueprint('main', __name__)\n",
        "\n",
        "@main.route('/')\n",
        "def index():\n",
        "    return 'Hello from the main blueprint!'\n",
        "\n",
        "\n",
        "# auth.py (inside an 'auth' folder)\n",
        "from flask import Blueprint\n",
        "\n",
        "auth = Blueprint('auth', __name__)\n",
        "\n",
        "@auth.route('/login')\n",
        "def login():\n",
        "    return 'This is the login page from the auth blueprint.'"
      ],
      "metadata": {
        "id": "nUK1uoXh5ICA"
      },
      "execution_count": null,
      "outputs": []
    },
    {
      "cell_type": "code",
      "metadata": {
        "colab": {
          "base_uri": "https://localhost:8080/"
        },
        "id": "3ce7a640",
        "outputId": "abc5fc6d-b7be-4c92-904c-f6766bc30859"
      },
      "source": [
        "#12. How do you define a custom Jinja filter in Flask?\n",
        "\n",
        "from flask import Flask, render_template\n",
        "\n",
        "app = Flask(__name__)\n",
        "\n",
        "\n",
        "@app.template_filter('capitalize_words')\n",
        "def capitalize_words_filter(s):\n",
        "    \"\"\"Capitalize the first letter of each word in a string.\"\"\"\n",
        "    return ' '.join(word.capitalize() for word in s.split())\n",
        "\n",
        "@app.route('/')\n",
        "def index():\n",
        "\n",
        "    example_text = \"hello world flask\"\n",
        "    processed_text = capitalize_words_filter(example_text) # This is how you'd use it in Python\n",
        "    return f\"Original: {example_text}<br>Processed (using filter logic): {processed_text}<br><br>Check the code to see how to register and use the filter in a template.\"\n",
        "\n",
        "if __name__ == '__main__':\n",
        "\n",
        "    print(\"Run this application and visit the homepage to see the filter's effect (conceptually).\")\n",
        "    print(\"To fully use this, create a 'templates' folder with an 'index.html' file:\")\n",
        "    print(\"---\")\n",
        "    print(\"<!-- templates/index.html -->\")\n",
        "    print(\"<!doctype html>\")\n",
        "    print(\"<html>\")\n",
        "    print(\"<head><title>Flask Jinja Filter</title></head>\")\n",
        "    print(\"<body>\")\n",
        "    print(\"<h1>Using a Custom Jinja Filter</h1>\")\n",
        "    print(\"<p>Original Text: {{ text }}</p>\")\n",
        "    print(\"<p>Capitalized Text: {{ text | capitalize_words }}</p>\")\n",
        "    print(\"</body>\")\n",
        "    print(\"</html>\")\n",
        "    print(\"---\")\n"
      ],
      "execution_count": 12,
      "outputs": [
        {
          "output_type": "stream",
          "name": "stdout",
          "text": [
            "Run this application and visit the homepage to see the filter's effect (conceptually).\n",
            "To fully use this, create a 'templates' folder with an 'index.html' file:\n",
            "---\n",
            "<!-- templates/index.html -->\n",
            "<!doctype html>\n",
            "<html>\n",
            "<head><title>Flask Jinja Filter</title></head>\n",
            "<body>\n",
            "<h1>Using a Custom Jinja Filter</h1>\n",
            "<p>Original Text: {{ text }}</p>\n",
            "<p>Capitalized Text: {{ text | capitalize_words }}</p>\n",
            "</body>\n",
            "</html>\n",
            "---\n"
          ]
        }
      ]
    },
    {
      "cell_type": "code",
      "source": [
        "#13. How can you redirect with query parameters in Flask?\n",
        "\n",
        "from flask import Flask, redirect, url_for\n",
        "\n",
        "app = Flask(__name__)\n",
        "\n",
        "@app.route('/')\n",
        "def index():\n",
        "    return 'Welcome to the home page. <a href=\"/redirect_with_params\">Click here to redirect with parameters</a>'\n",
        "\n",
        "@app.route('/target_page')\n",
        "def target_page():\n",
        "\n",
        "    name = request.args.get('name', 'Guest')\n",
        "    greeting = request.args.get('greeting', 'Hello')\n",
        "    return f'{greeting}, {name}! You were redirected here.'\n",
        "\n",
        "@app.route('/redirect_with_params')\n",
        "def redirect_with_params():\n",
        "\n",
        "    return redirect(url_for('target_page', name='Alice', greeting='Hi'))\n",
        "\n",
        "if __name__ == '__main__':\n",
        "\n",
        "    app.run(debug=True)"
      ],
      "metadata": {
        "id": "mN1KZrpR6S8b"
      },
      "execution_count": null,
      "outputs": []
    },
    {
      "cell_type": "code",
      "metadata": {
        "id": "723253f9"
      },
      "source": [
        "# 14. How do you return JSON responses in Flask?\n",
        "\n",
        "from flask import Flask, jsonify\n",
        "\n",
        "app = Flask(__name__)\n",
        "\n",
        "@app.route('/data')\n",
        "def get_data():\n",
        "    \"\"\"\n",
        "    This route returns a JSON response.\n",
        "    jsonify() converts the Python dictionary into a JSON string\n",
        "    and sets the Content-Type header to application/json.\n",
        "    \"\"\"\n",
        "    data = {\n",
        "        \"name\": \"Example API\",\n",
        "        \"version\": \"1.0\",\n",
        "        \"status\": \"active\",\n",
        "        \"items\": [\n",
        "            {\"id\": 1, \"value\": \"apple\"},\n",
        "            {\"id\": 2, \"value\": \"banana\"}\n",
        "        ]\n",
        "    }\n",
        "    return jsonify(data)\n",
        "\n",
        "@app.route('/error')\n",
        "def get_error():\n",
        "    \"\"\"\n",
        "    You can also return JSON with a specific HTTP status code.\n",
        "    \"\"\"\n",
        "    error_response = {\n",
        "        \"error\": \"Resource Not Found\",\n",
        "        \"message\": \"The requested item does not exist.\"\n",
        "    }\n",
        "    # Return the JSON response along with a 404 Not Found status code\n",
        "    return jsonify(error_response), 404\n",
        "\n",
        "if __name__ == '__main__':\n",
        "    # For Google Colab, you might need to use a different method to run Flask\n",
        "    # like ngrok or Flask-Ngrok.\n",
        "    # For local development, you can run it directly.\n",
        "    app.run(debug=True)"
      ],
      "execution_count": null,
      "outputs": []
    },
    {
      "cell_type": "markdown",
      "source": [
        "\n",
        "\n",
        "---\n",
        "\n",
        "\n",
        "\n",
        "---\n",
        "\n"
      ],
      "metadata": {
        "id": "jnj3hHtG6kN-"
      }
    }
  ]
}